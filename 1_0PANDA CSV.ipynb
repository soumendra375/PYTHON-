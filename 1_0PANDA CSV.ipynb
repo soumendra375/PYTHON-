{
 "cells": [
  {
   "cell_type": "code",
   "execution_count": 1,
   "metadata": {},
   "outputs": [],
   "source": [
    "import numpy as np\n",
    "import pandas as pd"
   ]
  },
  {
   "cell_type": "code",
   "execution_count": 9,
   "metadata": {},
   "outputs": [
    {
     "data": {
      "text/html": [
       "<div>\n",
       "<style scoped>\n",
       "    .dataframe tbody tr th:only-of-type {\n",
       "        vertical-align: middle;\n",
       "    }\n",
       "\n",
       "    .dataframe tbody tr th {\n",
       "        vertical-align: top;\n",
       "    }\n",
       "\n",
       "    .dataframe thead th {\n",
       "        text-align: right;\n",
       "    }\n",
       "</style>\n",
       "<table border=\"1\" class=\"dataframe\">\n",
       "  <thead>\n",
       "    <tr style=\"text-align: right;\">\n",
       "      <th></th>\n",
       "      <th>sepal length in cm</th>\n",
       "      <th>sepal width in cm</th>\n",
       "      <th>petal length in cm</th>\n",
       "      <th>petal width in cm</th>\n",
       "      <th>class</th>\n",
       "    </tr>\n",
       "  </thead>\n",
       "  <tbody>\n",
       "    <tr>\n",
       "      <th>0</th>\n",
       "      <td>5.1</td>\n",
       "      <td>3.5</td>\n",
       "      <td>1.4</td>\n",
       "      <td>0.2</td>\n",
       "      <td>Iris-setosa</td>\n",
       "    </tr>\n",
       "    <tr>\n",
       "      <th>1</th>\n",
       "      <td>4.9</td>\n",
       "      <td>3.0</td>\n",
       "      <td>1.4</td>\n",
       "      <td>0.2</td>\n",
       "      <td>Iris-setosa</td>\n",
       "    </tr>\n",
       "    <tr>\n",
       "      <th>2</th>\n",
       "      <td>4.7</td>\n",
       "      <td>3.2</td>\n",
       "      <td>1.3</td>\n",
       "      <td>0.2</td>\n",
       "      <td>Iris-setosa</td>\n",
       "    </tr>\n",
       "    <tr>\n",
       "      <th>3</th>\n",
       "      <td>4.6</td>\n",
       "      <td>3.1</td>\n",
       "      <td>1.5</td>\n",
       "      <td>0.2</td>\n",
       "      <td>Iris-setosa</td>\n",
       "    </tr>\n",
       "    <tr>\n",
       "      <th>4</th>\n",
       "      <td>5.0</td>\n",
       "      <td>3.6</td>\n",
       "      <td>1.4</td>\n",
       "      <td>0.2</td>\n",
       "      <td>Iris-setosa</td>\n",
       "    </tr>\n",
       "  </tbody>\n",
       "</table>\n",
       "</div>"
      ],
      "text/plain": [
       "   sepal length in cm  sepal width in cm  petal length in cm  \\\n",
       "0                 5.1                3.5                 1.4   \n",
       "1                 4.9                3.0                 1.4   \n",
       "2                 4.7                3.2                 1.3   \n",
       "3                 4.6                3.1                 1.5   \n",
       "4                 5.0                3.6                 1.4   \n",
       "\n",
       "   petal width in cm        class  \n",
       "0                0.2  Iris-setosa  \n",
       "1                0.2  Iris-setosa  \n",
       "2                0.2  Iris-setosa  \n",
       "3                0.2  Iris-setosa  \n",
       "4                0.2  Iris-setosa  "
      ]
     },
     "execution_count": 9,
     "metadata": {},
     "output_type": "execute_result"
    }
   ],
   "source": [
    "#data = pd.read_csv('C:\\\\Users\\\\Parul\\\\Desktop\\\\DATASETS\\\\Pandas master\\\\pandas-master\\\\pokemon_data.csv')\n",
    "#print(data)\n",
    "#print(data.head())\n",
    "#print(data.tail())\n",
    "\n",
    "#df_xlsx = pd.read_excel('C:\\\\Users\\\\Parul\\\\Desktop\\\\DATASETS\\\\Pandas master\\\\pandas-master\\\\pokemon_data.xlsx')\n",
    "#print(df_xlsx)\n",
    "#print(df_xlsx.head())\n",
    "#print(df_xlsx.tail())\n",
    "\n",
    "#data = pd.read_csv('C:\\\\Users\\\\Parul\\\\Desktop\\\\DATASETS\\\\Pandas master\\\\pandas-master\\\\pokemon_data.txt')\n",
    "#print(data)\n",
    "#print(data.head())\n",
    "#print(data.tail())\n",
    "\n",
    "data = pd.read_csv('C:\\\\Users\\\\Parul\\\\Desktop\\\\DATASETS\\\\Pandas master\\\\pandas-master\\\\iris.data',names=['sepal length in cm','sepal width in cm','petal length in cm','petal width in cm', 'class'])\n",
    "#print(data)\n",
    "data.head(5)\n",
    "#print(data.tail())\n",
    "\n",
    "#url = 'C:\\\\Users\\\\Parul\\\\Desktop\\\\DATASETS\\\\Pandas master\\\\pandas-master\\\\train.tsv'\n",
    "#url_data = pd.read_table(url,sep='\\t')\n",
    "#url_data.head(10)\n",
    "#url_data.tail(10)\n",
    "\n",
    "#data = pd.read_csv('C:\\\\Users\\\\Parul\\\\Desktop\\\\DATASETS\\\\Pandas master\\\\pandas-master\\\\iris.data')\n",
    "#print(data)\n",
    "#print(data.head())\n",
    "#print(data.tail())"
   ]
  },
  {
   "cell_type": "code",
   "execution_count": null,
   "metadata": {},
   "outputs": [],
   "source": [
    "import numpy as np\n",
    "import pandas as pd"
   ]
  },
  {
   "cell_type": "code",
   "execution_count": null,
   "metadata": {},
   "outputs": [],
   "source": [
    "## Read Headers\n",
    "#print(data.columns)\n",
    "\n",
    "## Read each column\n",
    "#print(data['Name'])\n",
    "#print(data['Name'][0:5])\n",
    "#print(data[['Name','Type 1', 'HP']])\n",
    "\n",
    "## Read Each Row\n",
    "#print(data.head(4))\n",
    "#print(data.iloc[1])\n",
    "#print(data.iloc[1:4])\n",
    "#print(data.iloc[0:4])\n",
    "#for index, row in data.iterrows():\n",
    "#     print(index, row)\n",
    "#for index, row in data.iterrows():\n",
    "#    print(index, row['Name'])\n",
    "#data.loc[data['Type 1'] == \"Fire\"]\n",
    "#data.loc[data['Type 1'] == \"Grass\"]\n",
    "\n",
    "## Read a specific location (R,C)\n",
    "#print(data.iloc[2,1])\n",
    "\n",
    "\n"
   ]
  },
  {
   "cell_type": "markdown",
   "metadata": {},
   "source": [
    "## Sorting/Describing Data"
   ]
  },
  {
   "cell_type": "code",
   "execution_count": null,
   "metadata": {},
   "outputs": [],
   "source": [
    "#data.describe()\n",
    "#data.sort_values('Name')\n",
    "#data.sort_values('Name', ascending=False)\n",
    "#data.sort_values(['Type 1', 'HP'])\n",
    "#data.sort_values(['Type 1', 'HP'], ascending=True)\n",
    "#data.sort_values(['Type 1', 'HP'], ascending=False)\n",
    "#data.sort_values(['Type 1', 'HP'], ascending=[1,0])"
   ]
  },
  {
   "cell_type": "markdown",
   "metadata": {},
   "source": [
    "## Making changes to the data"
   ]
  },
  {
   "cell_type": "code",
   "execution_count": null,
   "metadata": {},
   "outputs": [],
   "source": [
    "#data.head(5)\n",
    "\n",
    "#data['Total'] = data['HP'] + data['Attack'] + data['Defense'] + data['Sp. Atk'] + data['Sp. Def'] + data['Speed']\n",
    "data = data.drop(columns=['Total'])\n",
    "data['Total'] = data.iloc[:, 4:10].sum(axis=1)\n",
    "\n",
    "cols = list(data.columns)\n",
    "data = data[cols[0:4] + [cols[-1]]+cols[4:12]]\n",
    "data.head(5)\n",
    "\n"
   ]
  },
  {
   "cell_type": "markdown",
   "metadata": {},
   "source": [
    "## Saving our Data(Exporting into Desired Format)"
   ]
  },
  {
   "cell_type": "code",
   "execution_count": null,
   "metadata": {},
   "outputs": [],
   "source": [
    "data"
   ]
  },
  {
   "cell_type": "markdown",
   "metadata": {},
   "source": [
    " ## FILTERING DATA"
   ]
  },
  {
   "cell_type": "code",
   "execution_count": null,
   "metadata": {},
   "outputs": [],
   "source": [
    "#data.loc[data['Type 1'] == 'Grass']\n",
    "#data.loc[(data['Type 1'] == 'Grass') & (data['Type 2'] == 'Poison')]\n",
    "#data.loc[(data['Type 1'] == 'Grass') | (data['Type 2'] == 'Poison')]\n",
    "#data.loc[(data['Type 1'] == 'Grass') & (data['Type 2'] == 'Poison') & (data['HP'] > 70)]\n",
    "## storing new data\n",
    "#new_data = data.loc[(data['Type 1'] == 'Grass') & (data['Type 2'] == 'Poison') & (data['HP'] > 70)]\n",
    "##Containing mega\n",
    "#data.loc[data['Name'].str.contains('Mega')]\n",
    "#new_data\n",
    "import re\n",
    "#data.loc[data['Type 1'].str.contains('Fire|Grass', regex=True)]\n",
    "#data.loc[data['Type 1'].str.contains('fire|grass', flags=re.I, regex=True)]\n",
    "#data.loc[data['Name'].str.contains('^pi[a-z]*', flags=re.I, regex=True)]\n",
    "\n",
    "##saving new dataframe created\n",
    "#new_data.to_csv('filtered.csv')\n",
    "\n",
    "## changing the index number\n",
    "#new_data\n",
    "#new_data = new_data.reset_index()\n",
    "#new_data.reset_index(drop=True,inplace=True)\n",
    "#new_data\n"
   ]
  },
  {
   "cell_type": "markdown",
   "metadata": {},
   "source": [
    "## Conditional Changes"
   ]
  },
  {
   "cell_type": "code",
   "execution_count": null,
   "metadata": {},
   "outputs": [],
   "source": [
    "#data.loc[data['Type 1'] == 'Flamer', 'Type 1'] = 'Fire'\n",
    "#data.loc[data['Type 1'] == 'Fire', 'Legendary'] = True\n",
    "#data.loc[data['Total'] > 500, ['Generation','Legendary']] = 'TEST VALUE'\n",
    "#data.loc[data['Total'] > 500, ['Generation','Legendary']] = ['Test 1', 'Test 2']\n",
    "data"
   ]
  },
  {
   "cell_type": "markdown",
   "metadata": {},
   "source": [
    "## AGGREGATE STATISTICS (Groupby)"
   ]
  },
  {
   "cell_type": "code",
   "execution_count": null,
   "metadata": {},
   "outputs": [],
   "source": [
    "data\n",
    "#data.groupby(['Type 1']).mean()\n",
    "#data.groupby(['Type 1']).median()\n",
    "#data.groupby(['Type 1']).mean().sort_values('Defense', ascending=False)\n",
    "#data.groupby(['Type 1']).mean().sort_values('Attack', ascending=False)\n",
    "#data.groupby(['Type 1']).mean().sort_values('HP', ascending=False)\n",
    "#data.groupby(['Type 1']).sum()\n",
    "#data.groupby(['Type 1']).count()\n",
    "#data.groupby(['Type 1']).count()['count']\n",
    "data.groupby(['Type 1', 'Type 2']).count()['count']\n",
    "#data['count'] = 1\n",
    "#data\n",
    "#data.groupby(['Type 1']).sd()"
   ]
  },
  {
   "cell_type": "code",
   "execution_count": null,
   "metadata": {},
   "outputs": [],
   "source": []
  }
 ],
 "metadata": {
  "kernelspec": {
   "display_name": "Python 3",
   "language": "python",
   "name": "python3"
  },
  "language_info": {
   "codemirror_mode": {
    "name": "ipython",
    "version": 3
   },
   "file_extension": ".py",
   "mimetype": "text/x-python",
   "name": "python",
   "nbconvert_exporter": "python",
   "pygments_lexer": "ipython3",
   "version": "3.7.3"
  }
 },
 "nbformat": 4,
 "nbformat_minor": 2
}
