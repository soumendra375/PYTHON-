{
 "cells": [
  {
   "cell_type": "markdown",
   "metadata": {},
   "source": [
    "# TYPES"
   ]
  },
  {
   "cell_type": "code",
   "execution_count": 17,
   "metadata": {},
   "outputs": [
    {
     "name": "stdout",
     "output_type": "stream",
     "text": [
      "Hello, Python!\n"
     ]
    }
   ],
   "source": [
    "# Try your first python output\n",
    "print('Hello, Python!')"
   ]
  },
  {
   "cell_type": "code",
   "execution_count": 18,
   "metadata": {},
   "outputs": [
    {
     "name": "stdout",
     "output_type": "stream",
     "text": [
      "3.7.3 (default, Apr 24 2019, 15:29:51) [MSC v.1915 64 bit (AMD64)]\n"
     ]
    }
   ],
   "source": [
    "# Check the python version\n",
    "import sys\n",
    "print(sys.version)"
   ]
  },
  {
   "cell_type": "markdown",
   "metadata": {},
   "source": [
    "# TYPES OF OBJECTS IN PYTHON"
   ]
  },
  {
   "cell_type": "code",
   "execution_count": 19,
   "metadata": {},
   "outputs": [
    {
     "data": {
      "text/plain": [
       "11"
      ]
     },
     "execution_count": 19,
     "metadata": {},
     "output_type": "execute_result"
    }
   ],
   "source": [
    "# Integer\n",
    "11"
   ]
  },
  {
   "cell_type": "code",
   "execution_count": 20,
   "metadata": {},
   "outputs": [
    {
     "data": {
      "text/plain": [
       "2.14"
      ]
     },
     "execution_count": 20,
     "metadata": {},
     "output_type": "execute_result"
    }
   ],
   "source": [
    "# Float\n",
    "2.14"
   ]
  },
  {
   "cell_type": "code",
   "execution_count": 21,
   "metadata": {},
   "outputs": [
    {
     "data": {
      "text/plain": [
       "'Hello Python!'"
      ]
     },
     "execution_count": 21,
     "metadata": {},
     "output_type": "execute_result"
    }
   ],
   "source": [
    "#String\n",
    "\"Hello Python!\""
   ]
  },
  {
   "cell_type": "code",
   "execution_count": 22,
   "metadata": {},
   "outputs": [
    {
     "data": {
      "text/plain": [
       "int"
      ]
     },
     "execution_count": 22,
     "metadata": {},
     "output_type": "execute_result"
    }
   ],
   "source": [
    "# Type of 12\n",
    "type(12)"
   ]
  },
  {
   "cell_type": "code",
   "execution_count": 23,
   "metadata": {},
   "outputs": [
    {
     "data": {
      "text/plain": [
       "float"
      ]
     },
     "execution_count": 23,
     "metadata": {},
     "output_type": "execute_result"
    }
   ],
   "source": [
    "# Type of 2.14\n",
    "type(2.14)"
   ]
  },
  {
   "cell_type": "code",
   "execution_count": 24,
   "metadata": {},
   "outputs": [
    {
     "data": {
      "text/plain": [
       "str"
      ]
     },
     "execution_count": 24,
     "metadata": {},
     "output_type": "execute_result"
    }
   ],
   "source": [
    "# Type of \"Hello, world 2013\"\n",
    "type(\"Hello, world 2013\")"
   ]
  },
  {
   "cell_type": "code",
   "execution_count": 25,
   "metadata": {},
   "outputs": [
    {
     "data": {
      "text/plain": [
       "sys.float_info(max=1.7976931348623157e+308, max_exp=1024, max_10_exp=308, min=2.2250738585072014e-308, min_exp=-1021, min_10_exp=-307, dig=15, mant_dig=53, epsilon=2.220446049250313e-16, radix=2, rounds=1)"
      ]
     },
     "execution_count": 25,
     "metadata": {},
     "output_type": "execute_result"
    }
   ],
   "source": [
    "# System settings about float type\n",
    "sys.float_info"
   ]
  },
  {
   "cell_type": "markdown",
   "metadata": {},
   "source": [
    "# CONVERTING FROM ONE OBJECT TYPE TO A DIFFERENT OBJECT TYPE"
   ]
  },
  {
   "cell_type": "code",
   "execution_count": 26,
   "metadata": {},
   "outputs": [
    {
     "data": {
      "text/plain": [
       "int"
      ]
     },
     "execution_count": 26,
     "metadata": {},
     "output_type": "execute_result"
    }
   ],
   "source": [
    "# verify that this is an integer\n",
    "type(4)"
   ]
  },
  {
   "cell_type": "markdown",
   "metadata": {},
   "source": [
    "# Converting Integers to a float"
   ]
  },
  {
   "cell_type": "code",
   "execution_count": 27,
   "metadata": {},
   "outputs": [
    {
     "data": {
      "text/plain": [
       "2.0"
      ]
     },
     "execution_count": 27,
     "metadata": {},
     "output_type": "execute_result"
    }
   ],
   "source": [
    "# convert 2 to a float\n",
    "float(2)"
   ]
  },
  {
   "cell_type": "code",
   "execution_count": 28,
   "metadata": {},
   "outputs": [
    {
     "data": {
      "text/plain": [
       "float"
      ]
     },
     "execution_count": 28,
     "metadata": {},
     "output_type": "execute_result"
    }
   ],
   "source": [
    "# Convert integer 2 to a float to check its type\n",
    "type(float(3))"
   ]
  },
  {
   "cell_type": "code",
   "execution_count": 29,
   "metadata": {},
   "outputs": [
    {
     "data": {
      "text/plain": [
       "1"
      ]
     },
     "execution_count": 29,
     "metadata": {},
     "output_type": "execute_result"
    }
   ],
   "source": [
    "# Casting 1.1 to integer will result in loss of information\n",
    "int(1.1)"
   ]
  },
  {
   "cell_type": "markdown",
   "metadata": {},
   "source": [
    "# Converting from strings to integers or floats"
   ]
  },
  {
   "cell_type": "code",
   "execution_count": 31,
   "metadata": {},
   "outputs": [
    {
     "data": {
      "text/plain": [
       "1"
      ]
     },
     "execution_count": 31,
     "metadata": {},
     "output_type": "execute_result"
    }
   ],
   "source": [
    "# Convert a string into an integer\n",
    "int('1')"
   ]
  },
  {
   "cell_type": "code",
   "execution_count": 33,
   "metadata": {},
   "outputs": [
    {
     "data": {
      "text/plain": [
       "2.0"
      ]
     },
     "execution_count": 33,
     "metadata": {},
     "output_type": "execute_result"
    }
   ],
   "source": [
    "# convert a string into an float\n",
    "float('2.0')"
   ]
  },
  {
   "cell_type": "code",
   "execution_count": 34,
   "metadata": {},
   "outputs": [
    {
     "data": {
      "text/plain": [
       "'2'"
      ]
     },
     "execution_count": 34,
     "metadata": {},
     "output_type": "execute_result"
    }
   ],
   "source": [
    "# converting numbers to string\n",
    "str(2)"
   ]
  },
  {
   "cell_type": "markdown",
   "metadata": {},
   "source": [
    "# BOOLEAN DATA TYPE"
   ]
  },
  {
   "cell_type": "code",
   "execution_count": 35,
   "metadata": {},
   "outputs": [
    {
     "data": {
      "text/plain": [
       "True"
      ]
     },
     "execution_count": 35,
     "metadata": {},
     "output_type": "execute_result"
    }
   ],
   "source": [
    "# Value true\n",
    "True"
   ]
  },
  {
   "cell_type": "code",
   "execution_count": 36,
   "metadata": {},
   "outputs": [
    {
     "data": {
      "text/plain": [
       "False"
      ]
     },
     "execution_count": 36,
     "metadata": {},
     "output_type": "execute_result"
    }
   ],
   "source": [
    "# Value false\n",
    "False"
   ]
  },
  {
   "cell_type": "code",
   "execution_count": 38,
   "metadata": {},
   "outputs": [
    {
     "data": {
      "text/plain": [
       "bool"
      ]
     },
     "execution_count": 38,
     "metadata": {},
     "output_type": "execute_result"
    }
   ],
   "source": [
    "# Type of false\n",
    "type(False)"
   ]
  },
  {
   "cell_type": "code",
   "execution_count": 40,
   "metadata": {},
   "outputs": [
    {
     "data": {
      "text/plain": [
       "1"
      ]
     },
     "execution_count": 40,
     "metadata": {},
     "output_type": "execute_result"
    }
   ],
   "source": [
    "# Convert TRUE to integer\n",
    "int(True)"
   ]
  },
  {
   "cell_type": "code",
   "execution_count": 41,
   "metadata": {},
   "outputs": [
    {
     "data": {
      "text/plain": [
       "True"
      ]
     },
     "execution_count": 41,
     "metadata": {},
     "output_type": "execute_result"
    }
   ],
   "source": [
    "# Convert 1 to boolean\n",
    "bool(1)"
   ]
  },
  {
   "cell_type": "code",
   "execution_count": 44,
   "metadata": {},
   "outputs": [
    {
     "data": {
      "text/plain": [
       "False"
      ]
     },
     "execution_count": 44,
     "metadata": {},
     "output_type": "execute_result"
    }
   ],
   "source": [
    "# Convert 0 to boolean\n",
    "bool(0)"
   ]
  },
  {
   "cell_type": "code",
   "execution_count": 45,
   "metadata": {},
   "outputs": [
    {
     "data": {
      "text/plain": [
       "1.0"
      ]
     },
     "execution_count": 45,
     "metadata": {},
     "output_type": "execute_result"
    }
   ],
   "source": [
    "# Convert True to float\n",
    "float(True)"
   ]
  },
  {
   "cell_type": "markdown",
   "metadata": {},
   "source": [
    "# EXPRESSIONS AND VARIABLES\n",
    "Expressions\n",
    "Expressions in Python  can include operations compatible types(e.g., integers and floats).For example, basic arithmetic operations like adding mutiple numbers:"
   ]
  },
  {
   "cell_type": "code",
   "execution_count": 46,
   "metadata": {},
   "outputs": [
    {
     "data": {
      "text/plain": [
       "161"
      ]
     },
     "execution_count": 46,
     "metadata": {},
     "output_type": "execute_result"
    }
   ],
   "source": [
    "#Addition operation expression\n",
    "43+34+34+50"
   ]
  },
  {
   "cell_type": "code",
   "execution_count": 47,
   "metadata": {},
   "outputs": [
    {
     "data": {
      "text/plain": [
       "39"
      ]
     },
     "execution_count": 47,
     "metadata": {},
     "output_type": "execute_result"
    }
   ],
   "source": [
    "#Subtraction operation expression\n",
    "69 - 30"
   ]
  },
  {
   "cell_type": "code",
   "execution_count": 48,
   "metadata": {},
   "outputs": [
    {
     "data": {
      "text/plain": [
       "68"
      ]
     },
     "execution_count": 48,
     "metadata": {},
     "output_type": "execute_result"
    }
   ],
   "source": [
    "# Multiplication operation expression\n",
    "34 * 2"
   ]
  },
  {
   "cell_type": "code",
   "execution_count": 49,
   "metadata": {},
   "outputs": [
    {
     "data": {
      "text/plain": [
       "5.0"
      ]
     },
     "execution_count": 49,
     "metadata": {},
     "output_type": "execute_result"
    }
   ],
   "source": [
    "# Division operation expression\n",
    "25/5"
   ]
  },
  {
   "cell_type": "code",
   "execution_count": 50,
   "metadata": {},
   "outputs": [
    {
     "data": {
      "text/plain": [
       "4.166666666666667"
      ]
     },
     "execution_count": 50,
     "metadata": {},
     "output_type": "execute_result"
    }
   ],
   "source": [
    "# Division operation expression\n",
    "25/6"
   ]
  },
  {
   "cell_type": "code",
   "execution_count": 51,
   "metadata": {},
   "outputs": [
    {
     "data": {
      "text/plain": [
       "5"
      ]
     },
     "execution_count": 51,
     "metadata": {},
     "output_type": "execute_result"
    }
   ],
   "source": [
    "# Integer division operation expression\n",
    "25 // 5"
   ]
  },
  {
   "cell_type": "code",
   "execution_count": 52,
   "metadata": {},
   "outputs": [
    {
     "data": {
      "text/plain": [
       "7"
      ]
     },
     "execution_count": 52,
     "metadata": {},
     "output_type": "execute_result"
    }
   ],
   "source": [
    "# Integer division operation expression\n",
    "45//6"
   ]
  },
  {
   "cell_type": "code",
   "execution_count": 53,
   "metadata": {},
   "outputs": [
    {
     "data": {
      "text/plain": [
       "2.6666666666666665"
      ]
     },
     "execution_count": 53,
     "metadata": {},
     "output_type": "execute_result"
    }
   ],
   "source": [
    "# How many hours there are in 160 minutes\n",
    "160/60"
   ]
  },
  {
   "cell_type": "code",
   "execution_count": 54,
   "metadata": {},
   "outputs": [
    {
     "data": {
      "text/plain": [
       "120"
      ]
     },
     "execution_count": 54,
     "metadata": {},
     "output_type": "execute_result"
    }
   ],
   "source": [
    "# Mathematical expression\n",
    "30 + 2 * 45"
   ]
  },
  {
   "cell_type": "code",
   "execution_count": 55,
   "metadata": {},
   "outputs": [
    {
     "data": {
      "text/plain": [
       "1280"
      ]
     },
     "execution_count": 55,
     "metadata": {},
     "output_type": "execute_result"
    }
   ],
   "source": [
    "# Mathematical Expression\n",
    "(30 + 2) * 40"
   ]
  },
  {
   "cell_type": "markdown",
   "metadata": {},
   "source": [
    "## VARIABLES"
   ]
  },
  {
   "cell_type": "code",
   "execution_count": 57,
   "metadata": {},
   "outputs": [
    {
     "data": {
      "text/plain": [
       "171"
      ]
     },
     "execution_count": 57,
     "metadata": {},
     "output_type": "execute_result"
    }
   ],
   "source": [
    "# Store value into variable\n",
    "x = 43+40+18+70\n",
    "x"
   ]
  },
  {
   "cell_type": "code",
   "execution_count": 58,
   "metadata": {},
   "outputs": [
    {
     "data": {
      "text/plain": [
       "2.85"
      ]
     },
     "execution_count": 58,
     "metadata": {},
     "output_type": "execute_result"
    }
   ],
   "source": [
    "x/60"
   ]
  },
  {
   "cell_type": "code",
   "execution_count": 59,
   "metadata": {},
   "outputs": [
    {
     "data": {
      "text/plain": [
       "6840"
      ]
     },
     "execution_count": 59,
     "metadata": {},
     "output_type": "execute_result"
    }
   ],
   "source": [
    "x*40"
   ]
  },
  {
   "cell_type": "code",
   "execution_count": 61,
   "metadata": {},
   "outputs": [
    {
     "data": {
      "text/plain": [
       "45"
      ]
     },
     "execution_count": 61,
     "metadata": {},
     "output_type": "execute_result"
    }
   ],
   "source": [
    "x=y=45\n",
    "y"
   ]
  },
  {
   "cell_type": "code",
   "execution_count": 62,
   "metadata": {},
   "outputs": [
    {
     "data": {
      "text/plain": [
       "45"
      ]
     },
     "execution_count": 62,
     "metadata": {},
     "output_type": "execute_result"
    }
   ],
   "source": [
    "x"
   ]
  },
  {
   "cell_type": "code",
   "execution_count": 63,
   "metadata": {},
   "outputs": [
    {
     "data": {
      "text/plain": [
       "9.0"
      ]
     },
     "execution_count": 63,
     "metadata": {},
     "output_type": "execute_result"
    }
   ],
   "source": [
    "y/5"
   ]
  },
  {
   "cell_type": "code",
   "execution_count": 66,
   "metadata": {},
   "outputs": [
    {
     "data": {
      "text/plain": [
       "142"
      ]
     },
     "execution_count": 66,
     "metadata": {},
     "output_type": "execute_result"
    }
   ],
   "source": [
    "# Name the variables meaningfully\n",
    "total_min = 43 + 42 + 57 # Total length of albums in minutes\n",
    "total_min"
   ]
  },
  {
   "cell_type": "code",
   "execution_count": 68,
   "metadata": {},
   "outputs": [
    {
     "data": {
      "text/plain": [
       "2.3666666666666667"
      ]
     },
     "execution_count": 68,
     "metadata": {},
     "output_type": "execute_result"
    }
   ],
   "source": [
    "total_hours = total_min / 60 # Total Length of albums in hours\n",
    "total_hours"
   ]
  },
  {
   "cell_type": "code",
   "execution_count": 70,
   "metadata": {},
   "outputs": [
    {
     "data": {
      "text/plain": [
       "2.3666666666666667"
      ]
     },
     "execution_count": 70,
     "metadata": {},
     "output_type": "execute_result"
    }
   ],
   "source": [
    "# Complicate expression\n",
    "total_hours = (43 + 42 + 57) / 60 # Total hours in a single expression\n",
    "total_hours"
   ]
  },
  {
   "cell_type": "markdown",
   "metadata": {},
   "source": [
    "   #                                                   STRINGS"
   ]
  },
  {
   "cell_type": "code",
   "execution_count": 71,
   "metadata": {},
   "outputs": [
    {
     "data": {
      "text/plain": [
       "'Soumendra Ranjan misra'"
      ]
     },
     "execution_count": 71,
     "metadata": {},
     "output_type": "execute_result"
    }
   ],
   "source": [
    "# Use quotation marks for defining string\n",
    "\"Soumendra Ranjan misra\""
   ]
  },
  {
   "cell_type": "code",
   "execution_count": 72,
   "metadata": {},
   "outputs": [
    {
     "data": {
      "text/plain": [
       "'Soumendra Ranjan misra'"
      ]
     },
     "execution_count": 72,
     "metadata": {},
     "output_type": "execute_result"
    }
   ],
   "source": [
    "# Use single quotation marks for defining string\n",
    "'Soumendra Ranjan misra'"
   ]
  },
  {
   "cell_type": "code",
   "execution_count": 73,
   "metadata": {},
   "outputs": [
    {
     "data": {
      "text/plain": [
       "'1,2,3,4,5'"
      ]
     },
     "execution_count": 73,
     "metadata": {},
     "output_type": "execute_result"
    }
   ],
   "source": [
    "# Digitals and spaces in string\n",
    "'1,2,3,4,5'"
   ]
  },
  {
   "cell_type": "code",
   "execution_count": 74,
   "metadata": {},
   "outputs": [
    {
     "data": {
      "text/plain": [
       "'@#$%^ER'"
      ]
     },
     "execution_count": 74,
     "metadata": {},
     "output_type": "execute_result"
    }
   ],
   "source": [
    "# Special characters in string\n",
    "'@#$%^ER'"
   ]
  },
  {
   "cell_type": "code",
   "execution_count": 75,
   "metadata": {},
   "outputs": [
    {
     "name": "stdout",
     "output_type": "stream",
     "text": [
      "Hello!\n"
     ]
    }
   ],
   "source": [
    "# Print the string\n",
    "print(\"Hello!\")"
   ]
  },
  {
   "cell_type": "code",
   "execution_count": 82,
   "metadata": {},
   "outputs": [
    {
     "data": {
      "text/plain": [
       "'Soumendra Ranjan Misra'"
      ]
     },
     "execution_count": 82,
     "metadata": {},
     "output_type": "execute_result"
    }
   ],
   "source": [
    "# Assign string to variable\n",
    "name = \"Soumendra Ranjan Misra\"\n",
    "name"
   ]
  },
  {
   "cell_type": "markdown",
   "metadata": {},
   "source": [
    "## INDEXING"
   ]
  },
  {
   "cell_type": "markdown",
   "metadata": {},
   "source": [
    "### POSITIVE INDEXING"
   ]
  },
  {
   "cell_type": "code",
   "execution_count": 94,
   "metadata": {},
   "outputs": [
    {
     "name": "stdout",
     "output_type": "stream",
     "text": [
      "a\n"
     ]
    }
   ],
   "source": [
    "# Print the first element in the string\n",
    "print(name[21])"
   ]
  },
  {
   "cell_type": "markdown",
   "metadata": {},
   "source": [
    "### NEGATIVE INDEXING"
   ]
  },
  {
   "cell_type": "code",
   "execution_count": 90,
   "metadata": {},
   "outputs": [
    {
     "name": "stdout",
     "output_type": "stream",
     "text": [
      "r\n"
     ]
    }
   ],
   "source": [
    "print(name[-2])"
   ]
  },
  {
   "cell_type": "code",
   "execution_count": 91,
   "metadata": {},
   "outputs": [
    {
     "name": "stdout",
     "output_type": "stream",
     "text": [
      "s\n"
     ]
    }
   ],
   "source": [
    "print(name[-3])"
   ]
  },
  {
   "cell_type": "markdown",
   "metadata": {},
   "source": [
    "### Number of characters in a string by using len ,short for length"
   ]
  },
  {
   "cell_type": "code",
   "execution_count": 95,
   "metadata": {},
   "outputs": [
    {
     "data": {
      "text/plain": [
       "22"
      ]
     },
     "execution_count": 95,
     "metadata": {},
     "output_type": "execute_result"
    }
   ],
   "source": [
    "len(\"Soumendra Ranjan Misra\")"
   ]
  },
  {
   "cell_type": "code",
   "execution_count": 96,
   "metadata": {},
   "outputs": [
    {
     "data": {
      "text/plain": [
       "22"
      ]
     },
     "execution_count": 96,
     "metadata": {},
     "output_type": "execute_result"
    }
   ],
   "source": [
    "len(\"Soumendra Ranjan Misra\")"
   ]
  },
  {
   "cell_type": "markdown",
   "metadata": {},
   "source": [
    "## SLICING"
   ]
  },
  {
   "cell_type": "code",
   "execution_count": 98,
   "metadata": {},
   "outputs": [
    {
     "data": {
      "text/plain": [
       "'Soum'"
      ]
     },
     "execution_count": 98,
     "metadata": {},
     "output_type": "execute_result"
    }
   ],
   "source": [
    "# Take the slice on variable Name with only index 0 to index 3\n",
    "name[0:4]"
   ]
  },
  {
   "cell_type": "code",
   "execution_count": 104,
   "metadata": {},
   "outputs": [
    {
     "data": {
      "text/plain": [
       "'Ranjan'"
      ]
     },
     "execution_count": 104,
     "metadata": {},
     "output_type": "execute_result"
    }
   ],
   "source": [
    "# Take the slice on variable  Name with only index 8 to index 11\n",
    "name[10:16]"
   ]
  },
  {
   "cell_type": "markdown",
   "metadata": {},
   "source": [
    "## STRIDE"
   ]
  },
  {
   "cell_type": "code",
   "execution_count": 105,
   "metadata": {},
   "outputs": [
    {
     "data": {
      "text/plain": [
       "'SuedaRna ir'"
      ]
     },
     "execution_count": 105,
     "metadata": {},
     "output_type": "execute_result"
    }
   ],
   "source": [
    "# Get every second element. The elements on index 1,3,5....\n",
    "name[::2]"
   ]
  },
  {
   "cell_type": "code",
   "execution_count": 108,
   "metadata": {},
   "outputs": [
    {
     "data": {
      "text/plain": [
       "'Sm'"
      ]
     },
     "execution_count": 108,
     "metadata": {},
     "output_type": "execute_result"
    }
   ],
   "source": [
    "# Get every second element in the range from index 0 to index 4\n",
    "name[0:5:3]"
   ]
  },
  {
   "cell_type": "markdown",
   "metadata": {},
   "source": [
    "## CONCATENATE STRINGS"
   ]
  },
  {
   "cell_type": "code",
   "execution_count": 112,
   "metadata": {},
   "outputs": [
    {
     "data": {
      "text/plain": [
       "'Soumendra Ranjan Misra is the best '"
      ]
     },
     "execution_count": 112,
     "metadata": {},
     "output_type": "execute_result"
    }
   ],
   "source": [
    "# Concatenate two strings\n",
    "\n",
    "Statement = name + \" is the best \"\n",
    "Statement"
   ]
  },
  {
   "cell_type": "code",
   "execution_count": 114,
   "metadata": {},
   "outputs": [
    {
     "data": {
      "text/plain": [
       "' Michael Jackson Michael Jackson Michael Jackson'"
      ]
     },
     "execution_count": 114,
     "metadata": {},
     "output_type": "execute_result"
    }
   ],
   "source": [
    "# Print the string for 3 times\n",
    "3 * \" Michael Jackson\""
   ]
  },
  {
   "cell_type": "code",
   "execution_count": 116,
   "metadata": {},
   "outputs": [
    {
     "data": {
      "text/plain": [
       "'Soumendra Ranjan Misra is the best'"
      ]
     },
     "execution_count": 116,
     "metadata": {},
     "output_type": "execute_result"
    }
   ],
   "source": [
    "# Concatenate strings\n",
    "name = \"Soumendra Ranjan Misra\"\n",
    "Name = name + \" is the best\"\n",
    "Name"
   ]
  },
  {
   "cell_type": "markdown",
   "metadata": {},
   "source": [
    "## ESCAPE SEQUENCES\n",
    "Back slashes represent the begining of escape sequences. Escape sequences represent strings that may be difficult to input. For example, back slash \"n\"represents a new line. The output is given by a new line after the back slash \"n\" is encountered:"
   ]
  },
  {
   "cell_type": "code",
   "execution_count": 117,
   "metadata": {},
   "outputs": [
    {
     "name": "stdout",
     "output_type": "stream",
     "text": [
      "Michael Jackson \n",
      " is the best\n"
     ]
    }
   ],
   "source": [
    "# New line escape sequence\n",
    "print(\"Michael Jackson \\n is the best\")"
   ]
  },
  {
   "cell_type": "code",
   "execution_count": 118,
   "metadata": {},
   "outputs": [
    {
     "name": "stdout",
     "output_type": "stream",
     "text": [
      " Michael jackson \t is the best\n"
     ]
    }
   ],
   "source": [
    "# Tab escape sequence\n",
    "print(\" Michael jackson \\t is the best\")"
   ]
  },
  {
   "cell_type": "code",
   "execution_count": 119,
   "metadata": {},
   "outputs": [
    {
     "name": "stdout",
     "output_type": "stream",
     "text": [
      " soumendra Ranjan Misra \\ is the best\n"
     ]
    }
   ],
   "source": [
    "# Include back slash in string\n",
    "print(\" soumendra Ranjan Misra \\\\ is the best\")"
   ]
  },
  {
   "cell_type": "code",
   "execution_count": 121,
   "metadata": {},
   "outputs": [
    {
     "name": "stdout",
     "output_type": "stream",
     "text": [
      " soumendra Ranjan Misra \\ is the best\n"
     ]
    }
   ],
   "source": [
    "# r will tell python that string will be display as raw string\n",
    "print(r\" soumendra Ranjan Misra \\ is the best\")"
   ]
  },
  {
   "cell_type": "markdown",
   "metadata": {},
   "source": [
    "## STRING OPERATIONS"
   ]
  },
  {
   "cell_type": "code",
   "execution_count": 122,
   "metadata": {},
   "outputs": [
    {
     "name": "stdout",
     "output_type": "stream",
     "text": [
      "before upper: My name is Soumendra ranjan misra\n"
     ]
    }
   ],
   "source": [
    "# Convert all the characters in string to upper case\n",
    "A = \"My name is Soumendra ranjan misra\"\n",
    "print(\"before upper:\", A)"
   ]
  },
  {
   "cell_type": "code",
   "execution_count": 124,
   "metadata": {},
   "outputs": [
    {
     "name": "stdout",
     "output_type": "stream",
     "text": [
      "After upper: MY NAME IS SOUMENDRA RANJAN MISRA\n"
     ]
    }
   ],
   "source": [
    "B = A.upper()\n",
    "print(\"After upper:\",B)"
   ]
  },
  {
   "cell_type": "code",
   "execution_count": 126,
   "metadata": {},
   "outputs": [
    {
     "data": {
      "text/plain": [
       "'soumendra Jackson is the best'"
      ]
     },
     "execution_count": 126,
     "metadata": {},
     "output_type": "execute_result"
    }
   ],
   "source": [
    "# Replace the old substring with the new target substring is the segment has been found in the string\n",
    "A = \"Michael Jackson is the best\"\n",
    "B = A.replace('Michael', 'soumendra')\n",
    "B"
   ]
  },
  {
   "cell_type": "markdown",
   "metadata": {},
   "source": [
    "## FINDS a sub-string"
   ]
  },
  {
   "cell_type": "code",
   "execution_count": 128,
   "metadata": {},
   "outputs": [
    {
     "data": {
      "text/plain": [
       "-1"
      ]
     },
     "execution_count": 128,
     "metadata": {},
     "output_type": "execute_result"
    }
   ],
   "source": [
    "# Find the substring in the string. Only the index of the first element of substring in string will be the output\n",
    "Name = \"Soumendra ranjan misra\"\n",
    "Name.find('od')"
   ]
  },
  {
   "cell_type": "code",
   "execution_count": 129,
   "metadata": {},
   "outputs": [
    {
     "data": {
      "text/plain": [
       "17"
      ]
     },
     "execution_count": 129,
     "metadata": {},
     "output_type": "execute_result"
    }
   ],
   "source": [
    "Name.find('misra')"
   ]
  },
  {
   "cell_type": "code",
   "execution_count": 133,
   "metadata": {},
   "outputs": [
    {
     "data": {
      "text/plain": [
       "'YOU ARE WRONG'"
      ]
     },
     "execution_count": 133,
     "metadata": {},
     "output_type": "execute_result"
    }
   ],
   "source": [
    "# Write your code below code below and press shift + Enter to execute\n",
    "F = \"You are wrong\"\n",
    "F.upper()"
   ]
  },
  {
   "cell_type": "code",
   "execution_count": 134,
   "metadata": {},
   "outputs": [
    {
     "data": {
      "text/plain": [
       "95"
      ]
     },
     "execution_count": 134,
     "metadata": {},
     "output_type": "execute_result"
    }
   ],
   "source": [
    "# Write your code  below and press shift+enter to execute\n",
    "G = \"Mary had a little lamb little lamb, little lamb Mary had a little lamb \\\n",
    "Its fleece was white as snow And everywhere that Mary went Mary went, Mary went \\\n",
    "Everywhere that Mary went The lamb was sure to go\"\n",
    "G.find(\"snow\")"
   ]
  },
  {
   "cell_type": "markdown",
   "metadata": {},
   "source": [
    "## TUPLES"
   ]
  },
  {
   "cell_type": "code",
   "execution_count": 136,
   "metadata": {},
   "outputs": [
    {
     "data": {
      "text/plain": [
       "('disco', 10, 1.2)"
      ]
     },
     "execution_count": 136,
     "metadata": {},
     "output_type": "execute_result"
    }
   ],
   "source": [
    "# Create your first tuple\n",
    "\n",
    "tuple1 = (\"disco\",10, 1.2)\n",
    "tuple1"
   ]
  },
  {
   "cell_type": "code",
   "execution_count": 137,
   "metadata": {},
   "outputs": [
    {
     "data": {
      "text/plain": [
       "tuple"
      ]
     },
     "execution_count": 137,
     "metadata": {},
     "output_type": "execute_result"
    }
   ],
   "source": [
    "# Print the type of the tuple you created\n",
    "type(tuple1)"
   ]
  },
  {
   "cell_type": "markdown",
   "metadata": {},
   "source": [
    "# PYTHON NUMPY"
   ]
  },
  {
   "cell_type": "code",
   "execution_count": 138,
   "metadata": {},
   "outputs": [],
   "source": [
    "distance=[10,15,17,26]\n",
    "time=[.30,.47,.55,1.20]\n",
    "speed=[10,20,30,40]"
   ]
  },
  {
   "cell_type": "code",
   "execution_count": 139,
   "metadata": {},
   "outputs": [],
   "source": [
    "import numpy as np"
   ]
  },
  {
   "cell_type": "code",
   "execution_count": 140,
   "metadata": {},
   "outputs": [],
   "source": [
    "np_distance = np.array(distance)\n",
    "np_time=np.array(time)\n",
    "np_speed=np.array(speed)"
   ]
  },
  {
   "cell_type": "code",
   "execution_count": 147,
   "metadata": {},
   "outputs": [
    {
     "data": {
      "text/plain": [
       "array([33.33333333, 31.91489362, 30.90909091, 21.66666667])"
      ]
     },
     "execution_count": 147,
     "metadata": {},
     "output_type": "execute_result"
    }
   ],
   "source": [
    "speed=np_distance/np_time\n",
    "speed"
   ]
  },
  {
   "cell_type": "markdown",
   "metadata": {},
   "source": [
    "# Create and NumPy array"
   ]
  },
  {
   "cell_type": "code",
   "execution_count": 149,
   "metadata": {},
   "outputs": [],
   "source": [
    "#import Numpy library\n",
    "import numpy as np"
   ]
  },
  {
   "cell_type": "code",
   "execution_count": 150,
   "metadata": {},
   "outputs": [],
   "source": [
    "#first Numpy array\n",
    "first_numpy_array = np.array([1,2,3,4])"
   ]
  },
  {
   "cell_type": "code",
   "execution_count": 151,
   "metadata": {},
   "outputs": [
    {
     "name": "stdout",
     "output_type": "stream",
     "text": [
      "[1 2 3 4]\n"
     ]
    }
   ],
   "source": [
    "#print first array\n",
    "print(first_numpy_array)"
   ]
  },
  {
   "cell_type": "code",
   "execution_count": 152,
   "metadata": {},
   "outputs": [
    {
     "data": {
      "text/plain": [
       "array([[0., 0., 0.],\n",
       "       [0., 0., 0.],\n",
       "       [0., 0., 0.]])"
      ]
     },
     "execution_count": 152,
     "metadata": {},
     "output_type": "execute_result"
    }
   ],
   "source": [
    "#array with zeros\n",
    "array_with_zeros= np.zeros((3,3))\n",
    "array_with_zeros"
   ]
  },
  {
   "cell_type": "code",
   "execution_count": 153,
   "metadata": {},
   "outputs": [
    {
     "data": {
      "text/plain": [
       "array([[1., 1., 1.],\n",
       "       [1., 1., 1.],\n",
       "       [1., 1., 1.]])"
      ]
     },
     "execution_count": 153,
     "metadata": {},
     "output_type": "execute_result"
    }
   ],
   "source": [
    "#array with ones\n",
    "array_with_ones = np.ones((3,3))\n",
    "array_with_ones"
   ]
  },
  {
   "cell_type": "code",
   "execution_count": 158,
   "metadata": {},
   "outputs": [
    {
     "data": {
      "text/plain": [
       "array([[1.22468221e-311, 3.16202013e-322, 0.00000000e+000,\n",
       "        0.00000000e+000],\n",
       "       [0.00000000e+000, 1.31452438e-047, 2.61068224e-057,\n",
       "        9.74590074e-072],\n",
       "       [9.97518545e-047, 1.09733523e-071, 4.11772209e-033,\n",
       "        3.13999977e-032]])"
      ]
     },
     "execution_count": 158,
     "metadata": {},
     "output_type": "execute_result"
    }
   ],
   "source": [
    "#array with empty\n",
    "array_with_empty = np.empty((3,4))\n",
    "array_with_empty"
   ]
  },
  {
   "cell_type": "code",
   "execution_count": 162,
   "metadata": {},
   "outputs": [],
   "source": [
    "#array with arange method\n",
    "np_arange = np.arange(12)"
   ]
  },
  {
   "cell_type": "code",
   "execution_count": 163,
   "metadata": {},
   "outputs": [
    {
     "name": "stdout",
     "output_type": "stream",
     "text": [
      "[ 0  1  2  3  4  5  6  7  8  9 10 11]\n"
     ]
    }
   ],
   "source": [
    "#print array\n",
    "print(np_arange)"
   ]
  },
  {
   "cell_type": "code",
   "execution_count": 165,
   "metadata": {},
   "outputs": [
    {
     "data": {
      "text/plain": [
       "array([[ 0,  1,  2,  3],\n",
       "       [ 4,  5,  6,  7],\n",
       "       [ 8,  9, 10, 11]])"
      ]
     },
     "execution_count": 165,
     "metadata": {},
     "output_type": "execute_result"
    }
   ],
   "source": [
    "#reshape method to change / create array\n",
    "np_arange.reshape(3,4)"
   ]
  },
  {
   "cell_type": "code",
   "execution_count": 166,
   "metadata": {},
   "outputs": [],
   "source": [
    "#linspace for linearly (equal) spaced data elements\n",
    "np_linspace = np.linspace(1,6,5)"
   ]
  },
  {
   "cell_type": "code",
   "execution_count": 168,
   "metadata": {},
   "outputs": [
    {
     "name": "stdout",
     "output_type": "stream",
     "text": [
      "[1.   2.25 3.5  4.75 6.  ]\n"
     ]
    }
   ],
   "source": [
    "#print linsspaced array\n",
    "print(np_linspace)"
   ]
  },
  {
   "cell_type": "code",
   "execution_count": 169,
   "metadata": {},
   "outputs": [],
   "source": [
    "#One dimensional array\n",
    "oneD_array = np.arange(15)"
   ]
  },
  {
   "cell_type": "code",
   "execution_count": 170,
   "metadata": {},
   "outputs": [
    {
     "name": "stdout",
     "output_type": "stream",
     "text": [
      "[ 0  1  2  3  4  5  6  7  8  9 10 11 12 13 14]\n"
     ]
    }
   ],
   "source": [
    "#print 1D array\n",
    "print(oneD_array)"
   ]
  },
  {
   "cell_type": "code",
   "execution_count": 173,
   "metadata": {},
   "outputs": [],
   "source": [
    "#Two dimensional array\n",
    "TwoD_array = oneD_array.reshape(3,5)"
   ]
  },
  {
   "cell_type": "code",
   "execution_count": 174,
   "metadata": {},
   "outputs": [
    {
     "name": "stdout",
     "output_type": "stream",
     "text": [
      "[[ 0  1  2  3  4]\n",
      " [ 5  6  7  8  9]\n",
      " [10 11 12 13 14]]\n"
     ]
    }
   ],
   "source": [
    "#print two dimensional array\n",
    "print(TwoD_array)"
   ]
  },
  {
   "cell_type": "code",
   "execution_count": 175,
   "metadata": {},
   "outputs": [],
   "source": [
    "# 3D array\n",
    "ThreeD_array = np.arange(27).reshape(3,3,3)"
   ]
  },
  {
   "cell_type": "code",
   "execution_count": 176,
   "metadata": {},
   "outputs": [
    {
     "name": "stdout",
     "output_type": "stream",
     "text": [
      "[[[ 0  1  2]\n",
      "  [ 3  4  5]\n",
      "  [ 6  7  8]]\n",
      "\n",
      " [[ 9 10 11]\n",
      "  [12 13 14]\n",
      "  [15 16 17]]\n",
      "\n",
      " [[18 19 20]\n",
      "  [21 22 23]\n",
      "  [24 25 26]]]\n"
     ]
    }
   ],
   "source": [
    "# Print 3D array\n",
    "print(ThreeD_array)"
   ]
  },
  {
   "cell_type": "code",
   "execution_count": null,
   "metadata": {},
   "outputs": [],
   "source": []
  },
  {
   "cell_type": "code",
   "execution_count": 177,
   "metadata": {},
   "outputs": [],
   "source": [
    "np_city = np.array(['NYC', 'LA','Miami','Houston'])"
   ]
  },
  {
   "cell_type": "code",
   "execution_count": 178,
   "metadata": {},
   "outputs": [
    {
     "data": {
      "text/plain": [
       "1"
      ]
     },
     "execution_count": 178,
     "metadata": {},
     "output_type": "execute_result"
    }
   ],
   "source": [
    "np_city.ndim"
   ]
  },
  {
   "cell_type": "code",
   "execution_count": 179,
   "metadata": {},
   "outputs": [],
   "source": [
    "np_city_with_state = np.array([['NYC','LA','Miami','Houston'],['NY', 'CA', 'FL', 'TX']])"
   ]
  },
  {
   "cell_type": "code",
   "execution_count": 180,
   "metadata": {},
   "outputs": [
    {
     "data": {
      "text/plain": [
       "2"
      ]
     },
     "execution_count": 180,
     "metadata": {},
     "output_type": "execute_result"
    }
   ],
   "source": [
    "np_city_with_state.ndim"
   ]
  },
  {
   "cell_type": "code",
   "execution_count": 181,
   "metadata": {},
   "outputs": [],
   "source": [
    "np_city = np.array(['NYC', 'LA', 'Miami', 'Houston'])"
   ]
  },
  {
   "cell_type": "code",
   "execution_count": 182,
   "metadata": {},
   "outputs": [],
   "source": [
    "np_city_with_state = np.array([['NYC', 'LA', 'Miami', 'Houston'],['NY','CA', 'FL', 'TX']])"
   ]
  },
  {
   "cell_type": "code",
   "execution_count": 183,
   "metadata": {},
   "outputs": [
    {
     "data": {
      "text/plain": [
       "(4,)"
      ]
     },
     "execution_count": 183,
     "metadata": {},
     "output_type": "execute_result"
    }
   ],
   "source": [
    "np_city.shape"
   ]
  },
  {
   "cell_type": "code",
   "execution_count": 184,
   "metadata": {},
   "outputs": [
    {
     "data": {
      "text/plain": [
       "(2, 4)"
      ]
     },
     "execution_count": 184,
     "metadata": {},
     "output_type": "execute_result"
    }
   ],
   "source": [
    "np_city_with_state.shape"
   ]
  },
  {
   "cell_type": "code",
   "execution_count": 185,
   "metadata": {},
   "outputs": [
    {
     "data": {
      "text/plain": [
       "(4,)"
      ]
     },
     "execution_count": 185,
     "metadata": {},
     "output_type": "execute_result"
    }
   ],
   "source": [
    "np_city.shape"
   ]
  },
  {
   "cell_type": "code",
   "execution_count": 186,
   "metadata": {},
   "outputs": [
    {
     "data": {
      "text/plain": [
       "(2, 4)"
      ]
     },
     "execution_count": 186,
     "metadata": {},
     "output_type": "execute_result"
    }
   ],
   "source": [
    "np_city_with_state.shape"
   ]
  },
  {
   "cell_type": "code",
   "execution_count": 187,
   "metadata": {},
   "outputs": [
    {
     "data": {
      "text/plain": [
       "4"
      ]
     },
     "execution_count": 187,
     "metadata": {},
     "output_type": "execute_result"
    }
   ],
   "source": [
    "np_city.size"
   ]
  },
  {
   "cell_type": "code",
   "execution_count": 188,
   "metadata": {},
   "outputs": [
    {
     "data": {
      "text/plain": [
       "8"
      ]
     },
     "execution_count": 188,
     "metadata": {},
     "output_type": "execute_result"
    }
   ],
   "source": [
    "np_city_with_state.size"
   ]
  },
  {
   "cell_type": "code",
   "execution_count": 189,
   "metadata": {},
   "outputs": [
    {
     "data": {
      "text/plain": [
       "array(['NYC', 'LA', 'Miami', 'Houston'], dtype='<U7')"
      ]
     },
     "execution_count": 189,
     "metadata": {},
     "output_type": "execute_result"
    }
   ],
   "source": [
    "np_city"
   ]
  },
  {
   "cell_type": "code",
   "execution_count": 190,
   "metadata": {},
   "outputs": [
    {
     "data": {
      "text/plain": [
       "array([['NYC', 'LA', 'Miami', 'Houston'],\n",
       "       ['NY', 'CA', 'FL', 'TX']], dtype='<U7')"
      ]
     },
     "execution_count": 190,
     "metadata": {},
     "output_type": "execute_result"
    }
   ],
   "source": [
    "np_city_with_state"
   ]
  },
  {
   "cell_type": "code",
   "execution_count": 191,
   "metadata": {},
   "outputs": [
    {
     "data": {
      "text/plain": [
       "dtype('<U7')"
      ]
     },
     "execution_count": 191,
     "metadata": {},
     "output_type": "execute_result"
    }
   ],
   "source": [
    "np_city_with_state.dtype"
   ]
  },
  {
   "cell_type": "code",
   "execution_count": 192,
   "metadata": {},
   "outputs": [],
   "source": [
    "first_trial_cyclist =[10,15,17,26]"
   ]
  },
  {
   "cell_type": "code",
   "execution_count": 193,
   "metadata": {},
   "outputs": [],
   "source": [
    "second_trial_cyclist =[12,11,21,24]"
   ]
  },
  {
   "cell_type": "code",
   "execution_count": 198,
   "metadata": {},
   "outputs": [],
   "source": [
    "np_first_trial_cyclist = np.array(first_trial_cyclist)"
   ]
  },
  {
   "cell_type": "code",
   "execution_count": 199,
   "metadata": {},
   "outputs": [],
   "source": [
    "NYC_Borough = np.array(['Manhattan','Bronx','Brooklyn','staten Island','Queens'])"
   ]
  },
  {
   "cell_type": "code",
   "execution_count": 200,
   "metadata": {},
   "outputs": [
    {
     "data": {
      "text/plain": [
       "array(['Manhattan', 'Bronx', 'Brooklyn', 'staten Island', 'Queens'],\n",
       "      dtype='<U13')"
      ]
     },
     "execution_count": 200,
     "metadata": {},
     "output_type": "execute_result"
    }
   ],
   "source": [
    "NYC_Borough"
   ]
  },
  {
   "cell_type": "code",
   "execution_count": 201,
   "metadata": {},
   "outputs": [],
   "source": [
    "Boroughs_in_NYC = NYC_Borough"
   ]
  },
  {
   "cell_type": "code",
   "execution_count": 202,
   "metadata": {},
   "outputs": [
    {
     "data": {
      "text/plain": [
       "array(['Manhattan', 'Bronx', 'Brooklyn', 'staten Island', 'Queens'],\n",
       "      dtype='<U13')"
      ]
     },
     "execution_count": 202,
     "metadata": {},
     "output_type": "execute_result"
    }
   ],
   "source": [
    "Boroughs_in_NYC"
   ]
  },
  {
   "cell_type": "code",
   "execution_count": 203,
   "metadata": {},
   "outputs": [
    {
     "data": {
      "text/plain": [
       "True"
      ]
     },
     "execution_count": 203,
     "metadata": {},
     "output_type": "execute_result"
    }
   ],
   "source": [
    "Boroughs_in_NYC is NYC_Borough"
   ]
  },
  {
   "cell_type": "code",
   "execution_count": 204,
   "metadata": {},
   "outputs": [
    {
     "data": {
      "text/plain": [
       "array(['Manhattan', 'Bronx', 'Brooklyn', 'staten Island', 'Queens'],\n",
       "      dtype='<U13')"
      ]
     },
     "execution_count": 204,
     "metadata": {},
     "output_type": "execute_result"
    }
   ],
   "source": [
    "Boroughs_in_NYC"
   ]
  },
  {
   "cell_type": "code",
   "execution_count": 205,
   "metadata": {},
   "outputs": [],
   "source": [
    "Boroughs_in_NYC = Boroughs_in_NYC.view()"
   ]
  },
  {
   "cell_type": "code",
   "execution_count": 209,
   "metadata": {},
   "outputs": [
    {
     "data": {
      "text/plain": [
       "5"
      ]
     },
     "execution_count": 209,
     "metadata": {},
     "output_type": "execute_result"
    }
   ],
   "source": [
    "len(Boroughs_in_NYC)"
   ]
  },
  {
   "cell_type": "code",
   "execution_count": 211,
   "metadata": {},
   "outputs": [],
   "source": [
    "Boroughs_in_NYC[4] ='Central Park'"
   ]
  },
  {
   "cell_type": "code",
   "execution_count": 212,
   "metadata": {},
   "outputs": [
    {
     "data": {
      "text/plain": [
       "array(['Manhattan', 'Bronx', 'Brooklyn', 'staten Island', 'Central Park'],\n",
       "      dtype='<U13')"
      ]
     },
     "execution_count": 212,
     "metadata": {},
     "output_type": "execute_result"
    }
   ],
   "source": [
    "Boroughs_in_NYC"
   ]
  },
  {
   "cell_type": "code",
   "execution_count": 213,
   "metadata": {},
   "outputs": [
    {
     "data": {
      "text/plain": [
       "array(['Manhattan', 'Bronx', 'Brooklyn', 'staten Island', 'Central Park'],\n",
       "      dtype='<U13')"
      ]
     },
     "execution_count": 213,
     "metadata": {},
     "output_type": "execute_result"
    }
   ],
   "source": [
    "Boroughs_in_NYC"
   ]
  },
  {
   "cell_type": "code",
   "execution_count": 214,
   "metadata": {},
   "outputs": [],
   "source": [
    "Copy_of_NYC_Borough = NYC_Borough.copy()"
   ]
  },
  {
   "cell_type": "code",
   "execution_count": 215,
   "metadata": {},
   "outputs": [
    {
     "data": {
      "text/plain": [
       "False"
      ]
     },
     "execution_count": 215,
     "metadata": {},
     "output_type": "execute_result"
    }
   ],
   "source": [
    "Copy_of_NYC_Borough is NYC_Borough"
   ]
  },
  {
   "cell_type": "code",
   "execution_count": 216,
   "metadata": {},
   "outputs": [
    {
     "data": {
      "text/plain": [
       "False"
      ]
     },
     "execution_count": 216,
     "metadata": {},
     "output_type": "execute_result"
    }
   ],
   "source": [
    "Copy_of_NYC_Borough.base is NYC_Borough"
   ]
  },
  {
   "cell_type": "code",
   "execution_count": 217,
   "metadata": {},
   "outputs": [],
   "source": [
    "Copy_of_NYC_Borough[4]='Central Park'"
   ]
  },
  {
   "cell_type": "code",
   "execution_count": 218,
   "metadata": {},
   "outputs": [
    {
     "data": {
      "text/plain": [
       "array(['Manhattan', 'Bronx', 'Brooklyn', 'staten Island', 'Central Park'],\n",
       "      dtype='<U13')"
      ]
     },
     "execution_count": 218,
     "metadata": {},
     "output_type": "execute_result"
    }
   ],
   "source": [
    "NYC_Borough"
   ]
  },
  {
   "cell_type": "code",
   "execution_count": 220,
   "metadata": {},
   "outputs": [
    {
     "data": {
      "text/plain": [
       "array(['Manhattan', 'Bronx', 'Brooklyn', 'staten Island', 'Central Park'],\n",
       "      dtype='<U13')"
      ]
     },
     "execution_count": 220,
     "metadata": {},
     "output_type": "execute_result"
    }
   ],
   "source": [
    "Copy_of_NYC_Borough"
   ]
  },
  {
   "cell_type": "markdown",
   "metadata": {},
   "source": [
    "# ASSIGNMENT (GDP ASSUMPTION)"
   ]
  },
  {
   "cell_type": "code",
   "execution_count": 223,
   "metadata": {},
   "outputs": [],
   "source": [
    "#Analyze gdp per capita for given set of countries\n",
    "#find country with max and min gdp\n",
    "#find and print gdp per capita of each country\n",
    "#print gdp => mean, max, min,standard deviation and sum\n",
    "import numpy as np\n",
    "countries = np.array(['Algeria','Angolia','Argentina','Austria','Bahamas','Bangladesh','Belarus','Belgium','Bhutan','Brazil',\n",
    "                     'Bulgaria','Cambodia','Cameroon','chile','china','columbia','Cyprus','Denmark','El Salvadoor','Estonia'\n",
    "                     ,'Ethiopia','Fiji','Finland','France','Georgia','Ghana','Grenada','Guinea','Haiti','Hondures','Hungry','India'\n",
    "                     'Indonesia','Ireland','Italy','Japan','Kenya','south korea','Liberia','Malaysia','Mexico','Morocco','Nepal','New Zealand'\n",
    "                     ,'Norway','Pakistan','Peru','Qatar','Russia','Singapore','South Africa','Spain','sweden','switzerland','Thailand',\n",
    "                     'United Arab Emirates','United Kingdom','United States','Uruguay','Venezuala','Vietnam','Zimbabwe'])\n",
    "gdp_per_capita = np.array([2255.225482,629.9553062,11601.63022,25306.82494,27266.40335,19466.99052,588.3691778,2890.345675,\n",
    "                          24733.62696,1445.760002,4803.398244,2618.876037,590.4521124,665.7982328,7122.938458,2639.54156,\n",
    "                          3362.4656,15378.16704,30860.12808,2579.115607,6525.541272,229.6769525,2242.689259,27570.4852,\n",
    "                          23016.84778,1334.646773,402.6953275,6047.200797,394.1156638,385.5793827,1414.072488,5745.981529,\n",
    "                          837.7464011,1206.991065,27715.52837,18937.24998,39578.07441,478.2194906,16684.21278,279.22044061,\n",
    "                          5345.213415,6288.25324,1908.304416,274.8728621,14646.42094,40034.85063,672.1547506,3359.517402,\n",
    "                          36152.66676,3054.727742,33529.83052,3825.093781,15428.32098,33630.24604,39170.41371,2699.123242,\n",
    "                          21058.43643,28272.40661,37691.02733,9581.05659,5671.912202,757.4009286,347.7456605])\n"
   ]
  },
  {
   "cell_type": "code",
   "execution_count": 224,
   "metadata": {},
   "outputs": [],
   "source": [
    "max_gdp_per_capita = gdp_per_capita.argmax()"
   ]
  },
  {
   "cell_type": "code",
   "execution_count": 225,
   "metadata": {},
   "outputs": [],
   "source": [
    "country_with_max_gdp_per_capita = countries[max_gdp_per_capita]"
   ]
  },
  {
   "cell_type": "code",
   "execution_count": 235,
   "metadata": {},
   "outputs": [
    {
     "data": {
      "text/plain": [
       "'Peru'"
      ]
     },
     "execution_count": 235,
     "metadata": {},
     "output_type": "execute_result"
    }
   ],
   "source": [
    "country_with_max_gdp_per_capita"
   ]
  },
  {
   "cell_type": "code",
   "execution_count": 236,
   "metadata": {},
   "outputs": [],
   "source": [
    "min_gdp_per_capita = gdp_per_capita.argmin()"
   ]
  },
  {
   "cell_type": "code",
   "execution_count": 237,
   "metadata": {},
   "outputs": [],
   "source": [
    "country_with_min_gdp_per_capita = countries[min_gdp_per_capita]"
   ]
  },
  {
   "cell_type": "code",
   "execution_count": 238,
   "metadata": {},
   "outputs": [
    {
     "data": {
      "text/plain": [
       "'Fiji'"
      ]
     },
     "execution_count": 238,
     "metadata": {},
     "output_type": "execute_result"
    }
   ],
   "source": [
    "country_with_min_gdp_per_capita"
   ]
  },
  {
   "cell_type": "code",
   "execution_count": 239,
   "metadata": {},
   "outputs": [
    {
     "name": "stdout",
     "output_type": "stream",
     "text": [
      "ecaluating country{} Algeria\n",
      "ecaluating country{} Angolia\n",
      "ecaluating country{} Argentina\n",
      "ecaluating country{} Austria\n",
      "ecaluating country{} Bahamas\n",
      "ecaluating country{} Bangladesh\n",
      "ecaluating country{} Belarus\n",
      "ecaluating country{} Belgium\n",
      "ecaluating country{} Bhutan\n",
      "ecaluating country{} Brazil\n",
      "ecaluating country{} Bulgaria\n",
      "ecaluating country{} Cambodia\n",
      "ecaluating country{} Cameroon\n",
      "ecaluating country{} chile\n",
      "ecaluating country{} china\n",
      "ecaluating country{} columbia\n",
      "ecaluating country{} Cyprus\n",
      "ecaluating country{} Denmark\n",
      "ecaluating country{} El Salvadoor\n",
      "ecaluating country{} Estonia\n",
      "ecaluating country{} Ethiopia\n",
      "ecaluating country{} Fiji\n",
      "ecaluating country{} Finland\n",
      "ecaluating country{} France\n",
      "ecaluating country{} Georgia\n",
      "ecaluating country{} Ghana\n",
      "ecaluating country{} Grenada\n",
      "ecaluating country{} Guinea\n",
      "ecaluating country{} Haiti\n",
      "ecaluating country{} Hondures\n",
      "ecaluating country{} Hungry\n",
      "ecaluating country{} IndiaIndonesia\n",
      "ecaluating country{} Ireland\n",
      "ecaluating country{} Italy\n",
      "ecaluating country{} Japan\n",
      "ecaluating country{} Kenya\n",
      "ecaluating country{} south korea\n",
      "ecaluating country{} Liberia\n",
      "ecaluating country{} Malaysia\n",
      "ecaluating country{} Mexico\n",
      "ecaluating country{} Morocco\n",
      "ecaluating country{} Nepal\n",
      "ecaluating country{} New Zealand\n",
      "ecaluating country{} Norway\n",
      "ecaluating country{} Pakistan\n",
      "ecaluating country{} Peru\n",
      "ecaluating country{} Qatar\n",
      "ecaluating country{} Russia\n",
      "ecaluating country{} Singapore\n",
      "ecaluating country{} South Africa\n",
      "ecaluating country{} Spain\n",
      "ecaluating country{} sweden\n",
      "ecaluating country{} switzerland\n",
      "ecaluating country{} Thailand\n",
      "ecaluating country{} United Arab Emirates\n",
      "ecaluating country{} United Kingdom\n",
      "ecaluating country{} United States\n",
      "ecaluating country{} Uruguay\n",
      "ecaluating country{} Venezuala\n",
      "ecaluating country{} Vietnam\n",
      "ecaluating country{} Zimbabwe\n"
     ]
    }
   ],
   "source": [
    "for country in countries:\n",
    "    print('ecaluating country{}', format(country))"
   ]
  },
  {
   "cell_type": "code",
   "execution_count": 242,
   "metadata": {},
   "outputs": [
    {
     "name": "stdout",
     "output_type": "stream",
     "text": [
      "country Algeria  per capita gdp is 2255.225482\n",
      "country Angolia  per capita gdp is 629.9553062\n",
      "country Argentina  per capita gdp is 11601.63022\n",
      "country Austria  per capita gdp is 25306.82494\n",
      "country Bahamas  per capita gdp is 27266.40335\n",
      "country Bangladesh  per capita gdp is 19466.99052\n",
      "country Belarus  per capita gdp is 588.3691778\n",
      "country Belgium  per capita gdp is 2890.345675\n",
      "country Bhutan  per capita gdp is 24733.62696\n",
      "country Brazil  per capita gdp is 1445.760002\n",
      "country Bulgaria  per capita gdp is 4803.398244\n",
      "country Cambodia  per capita gdp is 2618.876037\n",
      "country Cameroon  per capita gdp is 590.4521124\n",
      "country chile  per capita gdp is 665.7982328\n",
      "country china  per capita gdp is 7122.938458\n",
      "country columbia  per capita gdp is 2639.54156\n",
      "country Cyprus  per capita gdp is 3362.4656\n",
      "country Denmark  per capita gdp is 15378.16704\n",
      "country El Salvadoor  per capita gdp is 30860.12808\n",
      "country Estonia  per capita gdp is 2579.115607\n",
      "country Ethiopia  per capita gdp is 6525.541272\n",
      "country Fiji  per capita gdp is 229.6769525\n",
      "country Finland  per capita gdp is 2242.689259\n",
      "country France  per capita gdp is 27570.4852\n",
      "country Georgia  per capita gdp is 23016.84778\n",
      "country Ghana  per capita gdp is 1334.646773\n",
      "country Grenada  per capita gdp is 402.6953275\n",
      "country Guinea  per capita gdp is 6047.200797\n",
      "country Haiti  per capita gdp is 394.1156638\n",
      "country Hondures  per capita gdp is 385.5793827\n",
      "country Hungry  per capita gdp is 1414.072488\n",
      "country IndiaIndonesia  per capita gdp is 5745.981529\n",
      "country Ireland  per capita gdp is 837.7464011\n",
      "country Italy  per capita gdp is 1206.991065\n",
      "country Japan  per capita gdp is 27715.52837\n",
      "country Kenya  per capita gdp is 18937.24998\n",
      "country south korea  per capita gdp is 39578.07441\n",
      "country Liberia  per capita gdp is 478.2194906\n",
      "country Malaysia  per capita gdp is 16684.21278\n",
      "country Mexico  per capita gdp is 279.22044061\n",
      "country Morocco  per capita gdp is 5345.213415\n",
      "country Nepal  per capita gdp is 6288.25324\n",
      "country New Zealand  per capita gdp is 1908.304416\n",
      "country Norway  per capita gdp is 274.8728621\n",
      "country Pakistan  per capita gdp is 14646.42094\n",
      "country Peru  per capita gdp is 40034.85063\n",
      "country Qatar  per capita gdp is 672.1547506\n",
      "country Russia  per capita gdp is 3359.517402\n",
      "country Singapore  per capita gdp is 36152.66676\n",
      "country South Africa  per capita gdp is 3054.727742\n",
      "country Spain  per capita gdp is 33529.83052\n",
      "country sweden  per capita gdp is 3825.093781\n",
      "country switzerland  per capita gdp is 15428.32098\n",
      "country Thailand  per capita gdp is 33630.24604\n",
      "country United Arab Emirates  per capita gdp is 39170.41371\n",
      "country United Kingdom  per capita gdp is 2699.123242\n",
      "country United States  per capita gdp is 21058.43643\n",
      "country Uruguay  per capita gdp is 28272.40661\n",
      "country Venezuala  per capita gdp is 37691.02733\n",
      "country Vietnam  per capita gdp is 9581.05659\n",
      "country Zimbabwe  per capita gdp is 5671.912202\n"
     ]
    }
   ],
   "source": [
    "for i in range(len(countries)):\n",
    "    country = countries[i]\n",
    "    country_gdp_per_capita = gdp_per_capita[i]\n",
    "    print('country {}  per capita gdp is {}'.format(country,country_gdp_per_capita))"
   ]
  },
  {
   "cell_type": "code",
   "execution_count": 243,
   "metadata": {},
   "outputs": [
    {
     "name": "stdout",
     "output_type": "stream",
     "text": [
      "40034.85063\n",
      "229.6769525\n",
      "11289.409272187462\n",
      "12743.828910144688\n",
      "711232.7841478101\n"
     ]
    }
   ],
   "source": [
    "print(gdp_per_capita.max())\n",
    "print(gdp_per_capita.min())\n",
    "print(gdp_per_capita.mean())\n",
    "print(gdp_per_capita.std())\n",
    "print(gdp_per_capita.sum())"
   ]
  },
  {
   "cell_type": "markdown",
   "metadata": {},
   "source": [
    "# GOLD ASSIGNMENT"
   ]
  },
  {
   "cell_type": "code",
   "execution_count": 244,
   "metadata": {},
   "outputs": [],
   "source": [
    "# import necessary Libraries\n",
    "import numpy as np"
   ]
  },
  {
   "cell_type": "code",
   "execution_count": 247,
   "metadata": {},
   "outputs": [],
   "source": [
    "#Dataset from summer Olympic London, year 2012\n",
    "np_olympic_country = np.array(['GBR', 'China','RUS','US','KOR','JPN','GER'])\n",
    "np_olympic_country_Gold = np.array([29,38,24,46,13,7,11])\n",
    "np_olympic_country_Silver = np.array([17,28,25,28,8,14,11])\n",
    "np_olympic_country_Bronze = np.array([19,22,32,29,7,14])"
   ]
  },
  {
   "cell_type": "markdown",
   "metadata": {},
   "source": [
    "## Find country with maximum gold"
   ]
  },
  {
   "cell_type": "code",
   "execution_count": 248,
   "metadata": {},
   "outputs": [],
   "source": [
    "#find country index with maximum gold\n",
    "max_gold_index = np_olympic_country_Gold.argmax()"
   ]
  },
  {
   "cell_type": "code",
   "execution_count": 249,
   "metadata": {},
   "outputs": [],
   "source": [
    "country_with_max_gold = np_olympic_country[max_gold_index]"
   ]
  },
  {
   "cell_type": "code",
   "execution_count": 250,
   "metadata": {},
   "outputs": [
    {
     "data": {
      "text/plain": [
       "'US'"
      ]
     },
     "execution_count": 250,
     "metadata": {},
     "output_type": "execute_result"
    }
   ],
   "source": [
    "country_with_max_gold"
   ]
  },
  {
   "cell_type": "markdown",
   "metadata": {},
   "source": [
    "## Find countries with more than 20 gold medals"
   ]
  },
  {
   "cell_type": "code",
   "execution_count": 251,
   "metadata": {},
   "outputs": [
    {
     "name": "stdout",
     "output_type": "stream",
     "text": [
      "['GBR' 'China' 'RUS' 'US']\n"
     ]
    }
   ],
   "source": [
    "#country won more than 20 gold medals, use boolean indexing technique\n",
    "print(np_olympic_country[np_olympic_country_Gold>20])"
   ]
  },
  {
   "cell_type": "markdown",
   "metadata": {},
   "source": [
    "## Evaluate the dataset and print the medal tally\n"
   ]
  },
  {
   "cell_type": "code",
   "execution_count": 263,
   "metadata": {},
   "outputs": [],
   "source": [
    "#Dataset from summer Olympic London, year 2012\n",
    "np_olympic_country = np.array(['GBR', 'China','RUS','US','KOR','JPN','GER'])\n",
    "np_olympic_country_Gold = np.array([29,38,24,46,13,7,11])\n",
    "np_olympic_country_Silver = np.array([17,28,25,28,8,14,11])\n",
    "np_olympic_country_Bronze = np.array([19,22,32,29,7,14,21])"
   ]
  },
  {
   "cell_type": "code",
   "execution_count": 264,
   "metadata": {},
   "outputs": [
    {
     "name": "stdout",
     "output_type": "stream",
     "text": [
      "GBR, gold medal 29, Total medals 65\n",
      "China, gold medal 38, Total medals 88\n",
      "RUS, gold medal 24, Total medals 81\n",
      "US, gold medal 46, Total medals 103\n",
      "KOR, gold medal 13, Total medals 28\n",
      "JPN, gold medal 7, Total medals 35\n",
      "GER, gold medal 11, Total medals 43\n"
     ]
    }
   ],
   "source": [
    "#print each country name with number of gold medals\n",
    "#print each country name with total number of medals\n",
    "for i in range(len(np_olympic_country)):\n",
    "    gold_medal = np_olympic_country_Gold[i]\n",
    "    country = np_olympic_country[i]\n",
    "    total_medal = np_olympic_country_Bronze[i]+np_olympic_country_Gold[i]+np_olympic_country_Silver[i]\n",
    "    print('{}, gold medal {}, Total medals {}'.format(country,gold_medal,total_medal))"
   ]
  }
 ],
 "metadata": {
  "kernelspec": {
   "display_name": "Python 3",
   "language": "python",
   "name": "python3"
  },
  "language_info": {
   "codemirror_mode": {
    "name": "ipython",
    "version": 3
   },
   "file_extension": ".py",
   "mimetype": "text/x-python",
   "name": "python",
   "nbconvert_exporter": "python",
   "pygments_lexer": "ipython3",
   "version": "3.7.3"
  }
 },
 "nbformat": 4,
 "nbformat_minor": 2
}
